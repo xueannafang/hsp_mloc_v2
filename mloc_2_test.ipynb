{
 "cells": [
  {
   "cell_type": "code",
   "execution_count": 1,
   "id": "1eb7bb85",
   "metadata": {},
   "outputs": [],
   "source": [
    "import pandas as pd"
   ]
  },
  {
   "cell_type": "code",
   "execution_count": 2,
   "id": "fb1f53b0",
   "metadata": {},
   "outputs": [],
   "source": [
    "ds = pd.read_csv('db.csv')\n",
    "df = pd.DataFrame(ds)"
   ]
  },
  {
   "cell_type": "code",
   "execution_count": 3,
   "id": "31e93fff",
   "metadata": {},
   "outputs": [],
   "source": [
    "db_entry = df.to_dict('records')"
   ]
  },
  {
   "cell_type": "code",
   "execution_count": 4,
   "id": "4722ccf9",
   "metadata": {},
   "outputs": [],
   "source": [
    "usr_ds = pd.read_csv('input_mloc_data.csv')\n",
    "usr_df = pd.DataFrame(usr_ds)\n",
    "usr_entry = usr_df.to_dict('records')"
   ]
  },
  {
   "cell_type": "code",
   "execution_count": 5,
   "id": "87a2d60d",
   "metadata": {},
   "outputs": [
    {
     "name": "stdout",
     "output_type": "stream",
     "text": [
      "[{'CAS': '123-91-1', 'Solvent': '1,4-Dioxane', 'Indicator': 0.72}, {'CAS': '872-50-4', 'Solvent': '1-Methyl-2-pyrrolidone', 'Indicator': 2.57}, {'CAS': '616-47-7', 'Solvent': '1-Methylimidazole', 'Indicator': 3.06}, {'CAS': '75-05-8', 'Solvent': 'Acetonitrile', 'Indicator': 0.6}, {'CAS': '110-82-7', 'Solvent': 'Cyclohexane', 'Indicator': 0.48}, {'CAS': '67-68-5', 'Solvent': 'Dimethyl sulfoxide', 'Indicator': 0.85}, {'CAS': '68-12-2', 'Solvent': 'Dimethylformamide', 'Indicator': 3.01}, {'CAS': '64-17-5', 'Solvent': 'Ethanol', 'Indicator': 3.21}, {'CAS': '56-81-5', 'Solvent': 'Glycerol', 'Indicator': 0.23}, {'CAS': '7732-18-5', 'Solvent': 'Water', 'Indicator': 0.00023}, {'CAS': '67-56-1', 'Solvent': 'Methanol', 'Indicator': 0.75}, {'CAS': '127-19-5', 'Solvent': 'N,N-Dimethylacetamide', 'Indicator': 2.45}, {'CAS': '108-32-7', 'Solvent': 'Propylene carbonate', 'Indicator': 1.55}, {'CAS': '109-99-9', 'Solvent': 'Tetrahydrofuran', 'Indicator': 1.04}, {'CAS': '108-88-3', 'Solvent': 'Toluene', 'Indicator': 0.77}, {'CAS': '1330-20-7', 'Solvent': 'Xylene', 'Indicator': 0.51}]\n"
     ]
    }
   ],
   "source": [
    "print(usr_entry)"
   ]
  },
  {
   "cell_type": "code",
   "execution_count": 6,
   "id": "55284289",
   "metadata": {},
   "outputs": [
    {
     "name": "stdout",
     "output_type": "stream",
     "text": [
      "123-91-1\n",
      "872-50-4\n",
      "616-47-7\n",
      "75-05-8\n",
      "110-82-7\n",
      "67-68-5\n",
      "68-12-2\n",
      "64-17-5\n",
      "56-81-5\n",
      "7732-18-5\n",
      "67-56-1\n",
      "127-19-5\n",
      "108-32-7\n",
      "109-99-9\n",
      "108-88-3\n",
      "1330-20-7\n"
     ]
    }
   ],
   "source": [
    "for i, d in enumerate(usr_entry):\n",
    "    print(d['CAS'])"
   ]
  },
  {
   "cell_type": "code",
   "execution_count": 7,
   "id": "b988aac7",
   "metadata": {},
   "outputs": [
    {
     "ename": "TypeError",
     "evalue": "unsupported operand type(s) for ** or pow(): 'list' and 'int'",
     "output_type": "error",
     "traceback": [
      "\u001b[1;31m---------------------------------------------------------------------------\u001b[0m",
      "\u001b[1;31mTypeError\u001b[0m                                 Traceback (most recent call last)",
      "Cell \u001b[1;32mIn[7], line 2\u001b[0m\n\u001b[0;32m      1\u001b[0m all_ind \u001b[38;5;241m=\u001b[39m [\u001b[38;5;241m1\u001b[39m, \u001b[38;5;241m2\u001b[39m, \u001b[38;5;241m3\u001b[39m]\n\u001b[1;32m----> 2\u001b[0m all_ind_2 \u001b[38;5;241m=\u001b[39m \u001b[43mall_ind\u001b[49m\u001b[38;5;241;43m*\u001b[39;49m\u001b[38;5;241;43m*\u001b[39;49m\u001b[38;5;241;43m2\u001b[39;49m\n",
      "\u001b[1;31mTypeError\u001b[0m: unsupported operand type(s) for ** or pow(): 'list' and 'int'"
     ]
    }
   ],
   "source": [
    "all_ind = [1, 2, 3]\n",
    "all_ind_2 = all_ind**2"
   ]
  },
  {
   "cell_type": "code",
   "execution_count": 8,
   "id": "c5aa1255",
   "metadata": {},
   "outputs": [
    {
     "data": {
      "text/plain": [
       "4"
      ]
     },
     "execution_count": 8,
     "metadata": {},
     "output_type": "execute_result"
    }
   ],
   "source": [
    "2**2"
   ]
  },
  {
   "cell_type": "code",
   "execution_count": 9,
   "id": "2fd3b565",
   "metadata": {},
   "outputs": [
    {
     "name": "stdout",
     "output_type": "stream",
     "text": [
      "[1, 4, 9]\n"
     ]
    }
   ],
   "source": [
    "all_ind_2 = []\n",
    "\n",
    "for ind in all_ind:\n",
    "    all_ind_2.append(ind**2)\n",
    "\n",
    "print(all_ind_2)"
   ]
  },
  {
   "cell_type": "code",
   "execution_count": 10,
   "id": "41fb6de3",
   "metadata": {},
   "outputs": [
    {
     "data": {
      "text/plain": [
       "array([1, 2, 3])"
      ]
     },
     "execution_count": 10,
     "metadata": {},
     "output_type": "execute_result"
    }
   ],
   "source": [
    "import numpy as np\n",
    "np.array(all_ind)"
   ]
  },
  {
   "cell_type": "code",
   "execution_count": 11,
   "id": "6e8f2fa2",
   "metadata": {},
   "outputs": [
    {
     "data": {
      "text/plain": [
       "array([1, 4, 9])"
      ]
     },
     "execution_count": 11,
     "metadata": {},
     "output_type": "execute_result"
    }
   ],
   "source": [
    "all_ind_arr = np.array(all_ind)\n",
    "all_ind_arr**2"
   ]
  },
  {
   "cell_type": "code",
   "execution_count": 12,
   "id": "f1f99b95",
   "metadata": {},
   "outputs": [
    {
     "data": {
      "text/plain": [
       "array([0.1, 0.4, 0.9])"
      ]
     },
     "execution_count": 12,
     "metadata": {},
     "output_type": "execute_result"
    }
   ],
   "source": [
    "arr_d = np.array([0.1, 0.2, 0.3])\n",
    "arr_d*all_ind_arr"
   ]
  },
  {
   "cell_type": "code",
   "execution_count": 13,
   "id": "f052330f",
   "metadata": {},
   "outputs": [
    {
     "data": {
      "text/plain": [
       "0.6000000000000001"
      ]
     },
     "execution_count": 13,
     "metadata": {},
     "output_type": "execute_result"
    }
   ],
   "source": [
    "np.sum(arr_d)"
   ]
  },
  {
   "cell_type": "code",
   "execution_count": 14,
   "id": "880df5fe",
   "metadata": {},
   "outputs": [],
   "source": [
    "all_ds = np.array([19.0, 18.0, 19.7, 15.3, 16.8, 18.4, 17.4, 15.8, 17.4, 15.5, 15.1, 16.8, 20.0, 16.8, 18.0, 17.6])\n",
    "all_ps = np.array([1.8, 12.3, 15.6, 18.0, 0.0, 16.4, 13.7, 8.8, 12.1, 16.0, 12.3, 11.5, 18.0, 5.7, 1.4, 1.0])\n",
    "all_hs = np.array([7.4, 7.2, 11.2, 6.1, 0.2, 10.2, 11.3, 19.4, 29.3, 42.3, 22.3, 10.2, 4.1, 8.0, 2.0, 3.1])\n",
    "all_ws = np.array([0.72, 2.57, 3.06, 0.6, 0.48, 0.85, 3.01, 3.21, 0.23, 0.00023, 0.75, 2.45, 1.55, 1.04, 0.77, 0.51])"
   ]
  },
  {
   "cell_type": "code",
   "execution_count": 15,
   "id": "c6725b2a",
   "metadata": {},
   "outputs": [
    {
     "name": "stdout",
     "output_type": "stream",
     "text": [
      "[5.18400e-01 6.60490e+00 9.36360e+00 3.60000e-01 2.30400e-01 7.22500e-01\n",
      " 9.06010e+00 1.03041e+01 5.29000e-02 5.29000e-08 5.62500e-01 6.00250e+00\n",
      " 2.40250e+00 1.08160e+00 5.92900e-01 2.60100e-01]\n"
     ]
    }
   ],
   "source": [
    "all_w2 = all_ws**2\n",
    "print(all_w2)"
   ]
  },
  {
   "cell_type": "code",
   "execution_count": 16,
   "id": "036dc70c",
   "metadata": {},
   "outputs": [
    {
     "name": "stdout",
     "output_type": "stream",
     "text": [
      "48.119000052900006\n"
     ]
    }
   ],
   "source": [
    "total_w2 = np.sum(all_w2)\n",
    "print(total_w2)"
   ]
  },
  {
   "cell_type": "code",
   "execution_count": 17,
   "id": "bbf47eed",
   "metadata": {},
   "outputs": [
    {
     "name": "stdout",
     "output_type": "stream",
     "text": [
      "17.624036448962748 12.229303813451438 11.720284952257254\n"
     ]
    }
   ],
   "source": [
    "init_d = np.sum(all_w2*all_ds)/total_w2\n",
    "init_p = np.sum(all_w2*all_ps)/total_w2\n",
    "init_h = np.sum(all_w2*all_hs)/total_w2\n",
    "\n",
    "print(init_d, init_p, init_h)"
   ]
  },
  {
   "cell_type": "code",
   "execution_count": 18,
   "id": "095802d1",
   "metadata": {},
   "outputs": [],
   "source": [
    "all_hsp = np.array([1, 2, 3])\n",
    "all_test_w2 = np.array([4, 9, 81])\n",
    "total_test_w2 = np.sum(all_test_w2)\n",
    "init_test = np.sum(all_test_w2*all_hsp)/total_test_w2"
   ]
  },
  {
   "cell_type": "code",
   "execution_count": 19,
   "id": "02a3a971",
   "metadata": {},
   "outputs": [
    {
     "data": {
      "text/plain": [
       "2.8191489361702127"
      ]
     },
     "execution_count": 19,
     "metadata": {},
     "output_type": "execute_result"
    }
   ],
   "source": [
    "init_test"
   ]
  },
  {
   "cell_type": "code",
   "execution_count": 20,
   "id": "89ccdef9",
   "metadata": {},
   "outputs": [
    {
     "data": {
      "text/plain": [
       "array([ 0, -1, -2])"
      ]
     },
     "execution_count": 20,
     "metadata": {},
     "output_type": "execute_result"
    }
   ],
   "source": [
    "m = 1\n",
    "\n",
    "s_test = np.array([1, 2, 3])\n",
    "\n",
    "m-s_test\n",
    "\n"
   ]
  },
  {
   "cell_type": "code",
   "execution_count": 21,
   "id": "09870aed",
   "metadata": {},
   "outputs": [
    {
     "data": {
      "text/plain": [
       "array([3.74165739, 5.38516481, 7.07106781])"
      ]
     },
     "execution_count": 21,
     "metadata": {},
     "output_type": "execute_result"
    }
   ],
   "source": [
    "d = np.array([1, 2, 3])\n",
    "p = np.array([2, 3, 4])\n",
    "h = np.array([3, 4, 5])\n",
    "\n",
    "\n",
    "def calc_total_sp(d, p, h):\n",
    "     \n",
    "    t = np.sqrt(d**2 + p**2 + h**2)\n",
    "\n",
    "    return t\n",
    "\n",
    "calc_total_sp(d, p, h)"
   ]
  },
  {
   "cell_type": "code",
   "execution_count": 22,
   "id": "26975a88",
   "metadata": {},
   "outputs": [
    {
     "data": {
      "text/plain": [
       "1"
      ]
     },
     "execution_count": 22,
     "metadata": {},
     "output_type": "execute_result"
    }
   ],
   "source": [
    "d[0]"
   ]
  },
  {
   "cell_type": "code",
   "execution_count": 23,
   "id": "8bf405ba",
   "metadata": {},
   "outputs": [],
   "source": [
    "from datetime import datetime\n",
    "from datetime import date\n",
    "today = date.today()\n",
    "now = datetime.now()"
   ]
  },
  {
   "cell_type": "code",
   "execution_count": 24,
   "id": "d8d3558e",
   "metadata": {},
   "outputs": [
    {
     "data": {
      "text/plain": [
       "datetime.date(2023, 7, 11)"
      ]
     },
     "execution_count": 24,
     "metadata": {},
     "output_type": "execute_result"
    }
   ],
   "source": [
    "today"
   ]
  },
  {
   "cell_type": "code",
   "execution_count": 25,
   "id": "1d7af9d0",
   "metadata": {},
   "outputs": [],
   "source": [
    " current_time = now.strftime(\"%H:%M:%S\")"
   ]
  },
  {
   "cell_type": "code",
   "execution_count": 26,
   "id": "9fe5d1fa",
   "metadata": {},
   "outputs": [
    {
     "data": {
      "text/plain": [
       "'11:41:04'"
      ]
     },
     "execution_count": 26,
     "metadata": {},
     "output_type": "execute_result"
    }
   ],
   "source": [
    "current_time"
   ]
  },
  {
   "cell_type": "code",
   "execution_count": 27,
   "id": "b82215d7",
   "metadata": {},
   "outputs": [
    {
     "data": {
      "text/plain": [
       "'11'"
      ]
     },
     "execution_count": 27,
     "metadata": {},
     "output_type": "execute_result"
    }
   ],
   "source": [
    "now.strftime(\"%H\")"
   ]
  },
  {
   "cell_type": "code",
   "execution_count": 28,
   "id": "87b340a7",
   "metadata": {},
   "outputs": [
    {
     "data": {
      "text/plain": [
       "'20230711114104'"
      ]
     },
     "execution_count": 28,
     "metadata": {},
     "output_type": "execute_result"
    }
   ],
   "source": [
    "today.strftime(\"%Y%m%d\") + now.strftime(\"%H%M%S\")"
   ]
  },
  {
   "cell_type": "code",
   "execution_count": 29,
   "id": "0a396ec6",
   "metadata": {},
   "outputs": [],
   "source": [
    "import seaborn as sns"
   ]
  },
  {
   "cell_type": "code",
   "execution_count": 30,
   "id": "7a83b906",
   "metadata": {},
   "outputs": [],
   "source": [
    "import matplotlib.pyplot as plt"
   ]
  },
  {
   "cell_type": "code",
   "execution_count": 31,
   "id": "76844709",
   "metadata": {},
   "outputs": [
    {
     "data": {
      "text/html": [
       "<div>\n",
       "<style scoped>\n",
       "    .dataframe tbody tr th:only-of-type {\n",
       "        vertical-align: middle;\n",
       "    }\n",
       "\n",
       "    .dataframe tbody tr th {\n",
       "        vertical-align: top;\n",
       "    }\n",
       "\n",
       "    .dataframe thead th {\n",
       "        text-align: right;\n",
       "    }\n",
       "</style>\n",
       "<table border=\"1\" class=\"dataframe\">\n",
       "  <thead>\n",
       "    <tr style=\"text-align: right;\">\n",
       "      <th></th>\n",
       "      <th>CAS</th>\n",
       "      <th>Solvent</th>\n",
       "      <th>Indicator</th>\n",
       "    </tr>\n",
       "  </thead>\n",
       "  <tbody>\n",
       "    <tr>\n",
       "      <th>0</th>\n",
       "      <td>123-91-1</td>\n",
       "      <td>1,4-Dioxane</td>\n",
       "      <td>0.72000</td>\n",
       "    </tr>\n",
       "    <tr>\n",
       "      <th>1</th>\n",
       "      <td>872-50-4</td>\n",
       "      <td>1-Methyl-2-pyrrolidone</td>\n",
       "      <td>2.57000</td>\n",
       "    </tr>\n",
       "    <tr>\n",
       "      <th>2</th>\n",
       "      <td>616-47-7</td>\n",
       "      <td>1-Methylimidazole</td>\n",
       "      <td>3.06000</td>\n",
       "    </tr>\n",
       "    <tr>\n",
       "      <th>3</th>\n",
       "      <td>75-05-8</td>\n",
       "      <td>Acetonitrile</td>\n",
       "      <td>0.60000</td>\n",
       "    </tr>\n",
       "    <tr>\n",
       "      <th>4</th>\n",
       "      <td>110-82-7</td>\n",
       "      <td>Cyclohexane</td>\n",
       "      <td>0.48000</td>\n",
       "    </tr>\n",
       "    <tr>\n",
       "      <th>5</th>\n",
       "      <td>67-68-5</td>\n",
       "      <td>Dimethyl sulfoxide</td>\n",
       "      <td>0.85000</td>\n",
       "    </tr>\n",
       "    <tr>\n",
       "      <th>6</th>\n",
       "      <td>68-12-2</td>\n",
       "      <td>Dimethylformamide</td>\n",
       "      <td>3.01000</td>\n",
       "    </tr>\n",
       "    <tr>\n",
       "      <th>7</th>\n",
       "      <td>64-17-5</td>\n",
       "      <td>Ethanol</td>\n",
       "      <td>3.21000</td>\n",
       "    </tr>\n",
       "    <tr>\n",
       "      <th>8</th>\n",
       "      <td>56-81-5</td>\n",
       "      <td>Glycerol</td>\n",
       "      <td>0.23000</td>\n",
       "    </tr>\n",
       "    <tr>\n",
       "      <th>9</th>\n",
       "      <td>7732-18-5</td>\n",
       "      <td>Water</td>\n",
       "      <td>0.00023</td>\n",
       "    </tr>\n",
       "    <tr>\n",
       "      <th>10</th>\n",
       "      <td>67-56-1</td>\n",
       "      <td>Methanol</td>\n",
       "      <td>0.75000</td>\n",
       "    </tr>\n",
       "    <tr>\n",
       "      <th>11</th>\n",
       "      <td>127-19-5</td>\n",
       "      <td>N,N-Dimethylacetamide</td>\n",
       "      <td>2.45000</td>\n",
       "    </tr>\n",
       "    <tr>\n",
       "      <th>12</th>\n",
       "      <td>108-32-7</td>\n",
       "      <td>Propylene carbonate</td>\n",
       "      <td>1.55000</td>\n",
       "    </tr>\n",
       "    <tr>\n",
       "      <th>13</th>\n",
       "      <td>109-99-9</td>\n",
       "      <td>Tetrahydrofuran</td>\n",
       "      <td>1.04000</td>\n",
       "    </tr>\n",
       "    <tr>\n",
       "      <th>14</th>\n",
       "      <td>108-88-3</td>\n",
       "      <td>Toluene</td>\n",
       "      <td>0.77000</td>\n",
       "    </tr>\n",
       "    <tr>\n",
       "      <th>15</th>\n",
       "      <td>1330-20-7</td>\n",
       "      <td>Xylene</td>\n",
       "      <td>0.51000</td>\n",
       "    </tr>\n",
       "  </tbody>\n",
       "</table>\n",
       "</div>"
      ],
      "text/plain": [
       "          CAS                 Solvent  Indicator\n",
       "0    123-91-1             1,4-Dioxane    0.72000\n",
       "1    872-50-4  1-Methyl-2-pyrrolidone    2.57000\n",
       "2    616-47-7       1-Methylimidazole    3.06000\n",
       "3     75-05-8            Acetonitrile    0.60000\n",
       "4    110-82-7             Cyclohexane    0.48000\n",
       "5     67-68-5      Dimethyl sulfoxide    0.85000\n",
       "6     68-12-2       Dimethylformamide    3.01000\n",
       "7     64-17-5                 Ethanol    3.21000\n",
       "8     56-81-5                Glycerol    0.23000\n",
       "9   7732-18-5                   Water    0.00023\n",
       "10    67-56-1                Methanol    0.75000\n",
       "11   127-19-5   N,N-Dimethylacetamide    2.45000\n",
       "12   108-32-7     Propylene carbonate    1.55000\n",
       "13   109-99-9         Tetrahydrofuran    1.04000\n",
       "14   108-88-3                 Toluene    0.77000\n",
       "15  1330-20-7                  Xylene    0.51000"
      ]
     },
     "execution_count": 31,
     "metadata": {},
     "output_type": "execute_result"
    }
   ],
   "source": [
    "usr_df"
   ]
  },
  {
   "cell_type": "code",
   "execution_count": 66,
   "id": "117cecf3",
   "metadata": {},
   "outputs": [],
   "source": [
    "test_rslt_ds = pd.read_csv(\"test_20230708170620.csv\", index_col = 0)"
   ]
  },
  {
   "cell_type": "code",
   "execution_count": 67,
   "id": "848cc870",
   "metadata": {},
   "outputs": [],
   "source": [
    "test_rslt_df = pd.DataFrame(test_rslt_ds)"
   ]
  },
  {
   "cell_type": "code",
   "execution_count": 68,
   "id": "273af43d",
   "metadata": {},
   "outputs": [
    {
     "data": {
      "text/html": [
       "<div>\n",
       "<style scoped>\n",
       "    .dataframe tbody tr th:only-of-type {\n",
       "        vertical-align: middle;\n",
       "    }\n",
       "\n",
       "    .dataframe tbody tr th {\n",
       "        vertical-align: top;\n",
       "    }\n",
       "\n",
       "    .dataframe thead th {\n",
       "        text-align: right;\n",
       "    }\n",
       "</style>\n",
       "<table border=\"1\" class=\"dataframe\">\n",
       "  <thead>\n",
       "    <tr style=\"text-align: right;\">\n",
       "      <th></th>\n",
       "      <th>CAS</th>\n",
       "      <th>Solvent</th>\n",
       "      <th>Indicator</th>\n",
       "      <th>idx</th>\n",
       "      <th>D</th>\n",
       "      <th>P</th>\n",
       "      <th>H</th>\n",
       "      <th>T</th>\n",
       "      <th>e_D</th>\n",
       "      <th>e_P</th>\n",
       "      <th>e_H</th>\n",
       "      <th>e_T</th>\n",
       "      <th>R</th>\n",
       "    </tr>\n",
       "  </thead>\n",
       "  <tbody>\n",
       "    <tr>\n",
       "      <th>16</th>\n",
       "      <td>NaN</td>\n",
       "      <td>M</td>\n",
       "      <td>NaN</td>\n",
       "      <td>NaN</td>\n",
       "      <td>17.550229</td>\n",
       "      <td>12.675853</td>\n",
       "      <td>10.519465</td>\n",
       "      <td>24.069627</td>\n",
       "      <td>0.000000</td>\n",
       "      <td>0.000000</td>\n",
       "      <td>0.000000</td>\n",
       "      <td>0.000000</td>\n",
       "      <td>0.000000</td>\n",
       "    </tr>\n",
       "    <tr>\n",
       "      <th>6</th>\n",
       "      <td>68-12-2</td>\n",
       "      <td>Dimethylformamide</td>\n",
       "      <td>3.01000</td>\n",
       "      <td>6.0</td>\n",
       "      <td>17.400000</td>\n",
       "      <td>13.700000</td>\n",
       "      <td>11.300000</td>\n",
       "      <td>24.862421</td>\n",
       "      <td>0.150229</td>\n",
       "      <td>-1.024147</td>\n",
       "      <td>-0.780535</td>\n",
       "      <td>-0.792794</td>\n",
       "      <td>1.322266</td>\n",
       "    </tr>\n",
       "    <tr>\n",
       "      <th>11</th>\n",
       "      <td>127-19-5</td>\n",
       "      <td>N,N-Dimethylacetamide</td>\n",
       "      <td>2.45000</td>\n",
       "      <td>11.0</td>\n",
       "      <td>16.800000</td>\n",
       "      <td>11.500000</td>\n",
       "      <td>10.200000</td>\n",
       "      <td>22.771254</td>\n",
       "      <td>0.750229</td>\n",
       "      <td>1.175853</td>\n",
       "      <td>0.319465</td>\n",
       "      <td>1.298373</td>\n",
       "      <td>1.932890</td>\n",
       "    </tr>\n",
       "    <tr>\n",
       "      <th>1</th>\n",
       "      <td>872-50-4</td>\n",
       "      <td>1-Methyl-2-pyrrolidone</td>\n",
       "      <td>2.57000</td>\n",
       "      <td>1.0</td>\n",
       "      <td>18.000000</td>\n",
       "      <td>12.300000</td>\n",
       "      <td>7.200000</td>\n",
       "      <td>22.959312</td>\n",
       "      <td>-0.449771</td>\n",
       "      <td>0.375853</td>\n",
       "      <td>3.319465</td>\n",
       "      <td>1.110315</td>\n",
       "      <td>3.459666</td>\n",
       "    </tr>\n",
       "    <tr>\n",
       "      <th>5</th>\n",
       "      <td>67-68-5</td>\n",
       "      <td>Dimethyl sulfoxide</td>\n",
       "      <td>0.85000</td>\n",
       "      <td>5.0</td>\n",
       "      <td>18.400000</td>\n",
       "      <td>16.400000</td>\n",
       "      <td>10.200000</td>\n",
       "      <td>26.675082</td>\n",
       "      <td>-0.849771</td>\n",
       "      <td>-3.724147</td>\n",
       "      <td>0.319465</td>\n",
       "      <td>-2.605455</td>\n",
       "      <td>4.106065</td>\n",
       "    </tr>\n",
       "    <tr>\n",
       "      <th>2</th>\n",
       "      <td>616-47-7</td>\n",
       "      <td>1-Methylimidazole</td>\n",
       "      <td>3.06000</td>\n",
       "      <td>2.0</td>\n",
       "      <td>19.700000</td>\n",
       "      <td>15.600000</td>\n",
       "      <td>11.200000</td>\n",
       "      <td>27.511634</td>\n",
       "      <td>-2.149771</td>\n",
       "      <td>-2.924147</td>\n",
       "      <td>-0.680535</td>\n",
       "      <td>-3.442007</td>\n",
       "      <td>5.244027</td>\n",
       "    </tr>\n",
       "    <tr>\n",
       "      <th>13</th>\n",
       "      <td>109-99-9</td>\n",
       "      <td>Tetrahydrofuran</td>\n",
       "      <td>1.04000</td>\n",
       "      <td>13.0</td>\n",
       "      <td>16.800000</td>\n",
       "      <td>5.700000</td>\n",
       "      <td>8.000000</td>\n",
       "      <td>19.460987</td>\n",
       "      <td>0.750229</td>\n",
       "      <td>6.975853</td>\n",
       "      <td>2.519465</td>\n",
       "      <td>4.608640</td>\n",
       "      <td>7.567140</td>\n",
       "    </tr>\n",
       "    <tr>\n",
       "      <th>3</th>\n",
       "      <td>75-05-8</td>\n",
       "      <td>Acetonitrile</td>\n",
       "      <td>0.60000</td>\n",
       "      <td>3.0</td>\n",
       "      <td>15.300000</td>\n",
       "      <td>18.000000</td>\n",
       "      <td>6.100000</td>\n",
       "      <td>24.398770</td>\n",
       "      <td>2.250229</td>\n",
       "      <td>-5.324147</td>\n",
       "      <td>4.419465</td>\n",
       "      <td>-0.329143</td>\n",
       "      <td>8.254232</td>\n",
       "    </tr>\n",
       "    <tr>\n",
       "      <th>12</th>\n",
       "      <td>108-32-7</td>\n",
       "      <td>Propylene carbonate</td>\n",
       "      <td>1.55000</td>\n",
       "      <td>12.0</td>\n",
       "      <td>20.000000</td>\n",
       "      <td>18.000000</td>\n",
       "      <td>4.100000</td>\n",
       "      <td>27.217825</td>\n",
       "      <td>-2.449771</td>\n",
       "      <td>-5.324147</td>\n",
       "      <td>6.419465</td>\n",
       "      <td>-3.148198</td>\n",
       "      <td>9.672724</td>\n",
       "    </tr>\n",
       "    <tr>\n",
       "      <th>7</th>\n",
       "      <td>64-17-5</td>\n",
       "      <td>Ethanol</td>\n",
       "      <td>3.21000</td>\n",
       "      <td>7.0</td>\n",
       "      <td>15.800000</td>\n",
       "      <td>8.800000</td>\n",
       "      <td>19.400000</td>\n",
       "      <td>26.522443</td>\n",
       "      <td>1.750229</td>\n",
       "      <td>3.875853</td>\n",
       "      <td>-8.880535</td>\n",
       "      <td>-2.452816</td>\n",
       "      <td>10.302395</td>\n",
       "    </tr>\n",
       "    <tr>\n",
       "      <th>0</th>\n",
       "      <td>123-91-1</td>\n",
       "      <td>1,4-Dioxane</td>\n",
       "      <td>0.72000</td>\n",
       "      <td>0.0</td>\n",
       "      <td>19.000000</td>\n",
       "      <td>1.800000</td>\n",
       "      <td>7.400000</td>\n",
       "      <td>20.469489</td>\n",
       "      <td>-1.449771</td>\n",
       "      <td>10.875853</td>\n",
       "      <td>3.119465</td>\n",
       "      <td>3.600138</td>\n",
       "      <td>11.680008</td>\n",
       "    </tr>\n",
       "    <tr>\n",
       "      <th>10</th>\n",
       "      <td>67-56-1</td>\n",
       "      <td>Methanol</td>\n",
       "      <td>0.75000</td>\n",
       "      <td>10.0</td>\n",
       "      <td>15.100000</td>\n",
       "      <td>12.300000</td>\n",
       "      <td>22.300000</td>\n",
       "      <td>29.607263</td>\n",
       "      <td>2.450229</td>\n",
       "      <td>0.375853</td>\n",
       "      <td>-11.780535</td>\n",
       "      <td>-5.537636</td>\n",
       "      <td>12.764668</td>\n",
       "    </tr>\n",
       "    <tr>\n",
       "      <th>15</th>\n",
       "      <td>1330-20-7</td>\n",
       "      <td>Xylene</td>\n",
       "      <td>0.51000</td>\n",
       "      <td>15.0</td>\n",
       "      <td>17.600000</td>\n",
       "      <td>1.000000</td>\n",
       "      <td>3.100000</td>\n",
       "      <td>17.898883</td>\n",
       "      <td>-0.049771</td>\n",
       "      <td>11.675853</td>\n",
       "      <td>7.419465</td>\n",
       "      <td>6.170744</td>\n",
       "      <td>13.834158</td>\n",
       "    </tr>\n",
       "    <tr>\n",
       "      <th>14</th>\n",
       "      <td>108-88-3</td>\n",
       "      <td>Toluene</td>\n",
       "      <td>0.77000</td>\n",
       "      <td>14.0</td>\n",
       "      <td>18.000000</td>\n",
       "      <td>1.400000</td>\n",
       "      <td>2.000000</td>\n",
       "      <td>18.164801</td>\n",
       "      <td>-0.449771</td>\n",
       "      <td>11.275853</td>\n",
       "      <td>8.519465</td>\n",
       "      <td>5.904826</td>\n",
       "      <td>14.161050</td>\n",
       "    </tr>\n",
       "    <tr>\n",
       "      <th>4</th>\n",
       "      <td>110-82-7</td>\n",
       "      <td>Cyclohexane</td>\n",
       "      <td>0.48000</td>\n",
       "      <td>4.0</td>\n",
       "      <td>16.800000</td>\n",
       "      <td>0.000000</td>\n",
       "      <td>0.200000</td>\n",
       "      <td>16.801190</td>\n",
       "      <td>0.750229</td>\n",
       "      <td>12.675853</td>\n",
       "      <td>10.319465</td>\n",
       "      <td>7.268437</td>\n",
       "      <td>16.414018</td>\n",
       "    </tr>\n",
       "    <tr>\n",
       "      <th>8</th>\n",
       "      <td>56-81-5</td>\n",
       "      <td>Glycerol</td>\n",
       "      <td>0.23000</td>\n",
       "      <td>8.0</td>\n",
       "      <td>17.400000</td>\n",
       "      <td>12.100000</td>\n",
       "      <td>29.300000</td>\n",
       "      <td>36.161582</td>\n",
       "      <td>0.150229</td>\n",
       "      <td>0.575853</td>\n",
       "      <td>-18.780535</td>\n",
       "      <td>-12.091955</td>\n",
       "      <td>18.791763</td>\n",
       "    </tr>\n",
       "    <tr>\n",
       "      <th>9</th>\n",
       "      <td>7732-18-5</td>\n",
       "      <td>Water</td>\n",
       "      <td>0.00023</td>\n",
       "      <td>9.0</td>\n",
       "      <td>15.500000</td>\n",
       "      <td>16.000000</td>\n",
       "      <td>42.300000</td>\n",
       "      <td>47.807322</td>\n",
       "      <td>2.050229</td>\n",
       "      <td>-3.324147</td>\n",
       "      <td>-31.780535</td>\n",
       "      <td>-23.737695</td>\n",
       "      <td>32.215929</td>\n",
       "    </tr>\n",
       "  </tbody>\n",
       "</table>\n",
       "</div>"
      ],
      "text/plain": [
       "          CAS                 Solvent  Indicator   idx          D          P  \\\n",
       "16        NaN                       M        NaN   NaN  17.550229  12.675853   \n",
       "6     68-12-2       Dimethylformamide    3.01000   6.0  17.400000  13.700000   \n",
       "11   127-19-5   N,N-Dimethylacetamide    2.45000  11.0  16.800000  11.500000   \n",
       "1    872-50-4  1-Methyl-2-pyrrolidone    2.57000   1.0  18.000000  12.300000   \n",
       "5     67-68-5      Dimethyl sulfoxide    0.85000   5.0  18.400000  16.400000   \n",
       "2    616-47-7       1-Methylimidazole    3.06000   2.0  19.700000  15.600000   \n",
       "13   109-99-9         Tetrahydrofuran    1.04000  13.0  16.800000   5.700000   \n",
       "3     75-05-8            Acetonitrile    0.60000   3.0  15.300000  18.000000   \n",
       "12   108-32-7     Propylene carbonate    1.55000  12.0  20.000000  18.000000   \n",
       "7     64-17-5                 Ethanol    3.21000   7.0  15.800000   8.800000   \n",
       "0    123-91-1             1,4-Dioxane    0.72000   0.0  19.000000   1.800000   \n",
       "10    67-56-1                Methanol    0.75000  10.0  15.100000  12.300000   \n",
       "15  1330-20-7                  Xylene    0.51000  15.0  17.600000   1.000000   \n",
       "14   108-88-3                 Toluene    0.77000  14.0  18.000000   1.400000   \n",
       "4    110-82-7             Cyclohexane    0.48000   4.0  16.800000   0.000000   \n",
       "8     56-81-5                Glycerol    0.23000   8.0  17.400000  12.100000   \n",
       "9   7732-18-5                   Water    0.00023   9.0  15.500000  16.000000   \n",
       "\n",
       "            H          T       e_D        e_P        e_H        e_T          R  \n",
       "16  10.519465  24.069627  0.000000   0.000000   0.000000   0.000000   0.000000  \n",
       "6   11.300000  24.862421  0.150229  -1.024147  -0.780535  -0.792794   1.322266  \n",
       "11  10.200000  22.771254  0.750229   1.175853   0.319465   1.298373   1.932890  \n",
       "1    7.200000  22.959312 -0.449771   0.375853   3.319465   1.110315   3.459666  \n",
       "5   10.200000  26.675082 -0.849771  -3.724147   0.319465  -2.605455   4.106065  \n",
       "2   11.200000  27.511634 -2.149771  -2.924147  -0.680535  -3.442007   5.244027  \n",
       "13   8.000000  19.460987  0.750229   6.975853   2.519465   4.608640   7.567140  \n",
       "3    6.100000  24.398770  2.250229  -5.324147   4.419465  -0.329143   8.254232  \n",
       "12   4.100000  27.217825 -2.449771  -5.324147   6.419465  -3.148198   9.672724  \n",
       "7   19.400000  26.522443  1.750229   3.875853  -8.880535  -2.452816  10.302395  \n",
       "0    7.400000  20.469489 -1.449771  10.875853   3.119465   3.600138  11.680008  \n",
       "10  22.300000  29.607263  2.450229   0.375853 -11.780535  -5.537636  12.764668  \n",
       "15   3.100000  17.898883 -0.049771  11.675853   7.419465   6.170744  13.834158  \n",
       "14   2.000000  18.164801 -0.449771  11.275853   8.519465   5.904826  14.161050  \n",
       "4    0.200000  16.801190  0.750229  12.675853  10.319465   7.268437  16.414018  \n",
       "8   29.300000  36.161582  0.150229   0.575853 -18.780535 -12.091955  18.791763  \n",
       "9   42.300000  47.807322  2.050229  -3.324147 -31.780535 -23.737695  32.215929  "
      ]
     },
     "execution_count": 68,
     "metadata": {},
     "output_type": "execute_result"
    }
   ],
   "source": [
    "test_rslt_df"
   ]
  },
  {
   "cell_type": "code",
   "execution_count": 69,
   "id": "dbcd0561",
   "metadata": {},
   "outputs": [],
   "source": [
    "from mpl_toolkits import mplot3d\n"
   ]
  },
  {
   "cell_type": "code",
   "execution_count": 116,
   "id": "850fd7c8",
   "metadata": {},
   "outputs": [],
   "source": [
    "def c_diff(df):\n",
    "    \n",
    "    if df['Solvent'] == 'M':\n",
    "        c_out = 'r'\n",
    "    \n",
    "    else:\n",
    "        c_out = 'g'\n",
    "    \n",
    "    return c_out\n",
    "\n",
    "def l_diff(df):\n",
    "    \n",
    "    if df['Solvent'] == 'M':\n",
    "        \n",
    "        l_out_1 = 'Target'\n",
    "    \n",
    "    else:\n",
    "        \n",
    "        l_out_1 = str(round(df['idx']))\n",
    "    \n",
    "    l_out_2 = df['Solvent']\n",
    "    \n",
    "    l_out = l_out_1 + ': ' + l_out_2\n",
    "    \n",
    "    return l_out\n",
    "\n",
    "def m_diff(df):\n",
    "    \n",
    "    if df['Solvent'] == 'M':\n",
    "        m_out = '*'\n",
    "        \n",
    "    else:\n",
    "        m_out = 'o'\n",
    "    \n",
    "    return m_out\n",
    "\n",
    "\n",
    "def s_diff(df):\n",
    "    \n",
    "    if df['Solvent'] == 'M':\n",
    "        s_out = 100\n",
    "    \n",
    "    else:\n",
    "        s_out = 20\n",
    "    \n",
    "    return s_out\n",
    "\n",
    "def t_diff(df):\n",
    "    \n",
    "    if df['Solvent'] == 'M':\n",
    "        t_out = 'M'\n",
    "    \n",
    "    else:\n",
    "        idx_round = round(df['idx'])\n",
    "        t_out = str(idx_round)\n",
    "    \n",
    "    return t_out\n",
    "    \n",
    "def plot_detail(df):\n",
    "    \n",
    "    if df['Solvent'] == 'M':\n",
    "        c_out = 'r'\n",
    "        m_out = '*'\n",
    "        \n",
    "    else:\n",
    "        c_out = 'g'\n",
    "        m_out = 'o'\n",
    "        \n",
    "    l_out = df['Solvent']\n",
    "    \n",
    "    return c_out, m_out, l_out"
   ]
  },
  {
   "cell_type": "code",
   "execution_count": 83,
   "id": "fec5cf11",
   "metadata": {},
   "outputs": [
    {
     "name": "stdout",
     "output_type": "stream",
     "text": [
      "M\n",
      "Dimethylformamide\n",
      "N,N-Dimethylacetamide\n",
      "1-Methyl-2-pyrrolidone\n",
      "Dimethyl sulfoxide\n",
      "1-Methylimidazole\n",
      "Tetrahydrofuran\n",
      "Acetonitrile\n",
      "Propylene carbonate\n",
      "Ethanol\n",
      "1,4-Dioxane\n",
      "Methanol\n",
      "Xylene\n",
      "Toluene\n",
      "Cyclohexane\n",
      "Glycerol\n",
      "Water\n"
     ]
    }
   ],
   "source": [
    "for i, row in test_rslt_df.iterrows():\n",
    "    print(row['Solvent'])"
   ]
  },
  {
   "cell_type": "code",
   "execution_count": 117,
   "id": "9d89d953",
   "metadata": {},
   "outputs": [
    {
     "data": {
      "image/png": "[encoded data removed]",
      "text/plain": [
       "<Figure size 600x600 with 1 Axes>"
      ]
     },
     "metadata": {},
     "output_type": "display_data"
    }
   ],
   "source": [
    "\n",
    "sns.set_style(\"whitegrid\")\n",
    "\n",
    "fig = plt.figure(figsize=(6,6))\n",
    "ax = plt.axes(projection = '3d')\n",
    "\n",
    "label_delta = 0.1\n",
    "\n",
    "for i, row in test_rslt_df.iterrows():\n",
    "    \n",
    "    c_out = c_diff(row)\n",
    "    l_out = l_diff(row)\n",
    "    m_out = m_diff(row)\n",
    "    s_out = s_diff(row)\n",
    "    t_out = t_diff(row)\n",
    "    \n",
    "    # print(row['Solvent'])\n",
    "\n",
    "    x = row['D']\n",
    "    y = row['P']\n",
    "    z = row['H']\n",
    "    \n",
    "    ax.scatter(x, y, z, s = s_out, marker = m_out, label = l_out)\n",
    "\n",
    "    # ax.scatter(x, y, z, c = c_out, l = l_out)\n",
    "\n",
    "    # ax.annotate(row['Solvent'], (x, y))\n",
    "    ax.text(x + label_delta, y + label_delta, z + label_delta, t_out)\n",
    "    \n",
    "ax.set_xlabel('D')\n",
    "ax.set_ylabel('P')\n",
    "ax.set_zlabel('H', rotation = 90)\n",
    "ax.zaxis.labelpad=-1\n",
    "\n",
    "# Shrink current axis by 20%\n",
    "box = ax.get_position()\n",
    "ax.set_position([box.x0, box.y0, box.width * 0.9, box.height])\n",
    "\n",
    "# Put a legend to the right of the current axis\n",
    "ax.legend(loc='center left', bbox_to_anchor=(1.1, 0.5))\n",
    "\n",
    "# ax.legend(loc=\"right\")\n",
    "\n",
    "plt.savefig('test_20230708170620.png')\n",
    "plt.show()\n"
   ]
  },
  {
   "cell_type": "code",
   "execution_count": 38,
   "id": "3119fac4",
   "metadata": {},
   "outputs": [
    {
     "ename": "ValueError",
     "evalue": "The truth value of a Series is ambiguous. Use a.empty, a.bool(), a.item(), a.any() or a.all().",
     "output_type": "error",
     "traceback": [
      "\u001b[1;31m---------------------------------------------------------------------------\u001b[0m",
      "\u001b[1;31mValueError\u001b[0m                                Traceback (most recent call last)",
      "Cell \u001b[1;32mIn[38], line 10\u001b[0m\n\u001b[0;32m      7\u001b[0m y \u001b[38;5;241m=\u001b[39m test_rslt_df[\u001b[38;5;124m'\u001b[39m\u001b[38;5;124mP\u001b[39m\u001b[38;5;124m'\u001b[39m]\n\u001b[0;32m      8\u001b[0m z \u001b[38;5;241m=\u001b[39m test_rslt_df[\u001b[38;5;124m'\u001b[39m\u001b[38;5;124mH\u001b[39m\u001b[38;5;124m'\u001b[39m]\n\u001b[1;32m---> 10\u001b[0m c_out \u001b[38;5;241m=\u001b[39m \u001b[43mc_diff\u001b[49m\u001b[43m(\u001b[49m\u001b[43mtest_rslt_df\u001b[49m\u001b[43m)\u001b[49m\n\u001b[0;32m     12\u001b[0m ax\u001b[38;5;241m.\u001b[39mscatter(x, y, z, c \u001b[38;5;241m=\u001b[39m c_out)\n\u001b[0;32m     13\u001b[0m ax\u001b[38;5;241m.\u001b[39mset_xlabel(\u001b[38;5;124m'\u001b[39m\u001b[38;5;124mD\u001b[39m\u001b[38;5;124m'\u001b[39m)\n",
      "Cell \u001b[1;32mIn[37], line 3\u001b[0m, in \u001b[0;36mc_diff\u001b[1;34m(df)\u001b[0m\n\u001b[0;32m      1\u001b[0m \u001b[38;5;28;01mdef\u001b[39;00m \u001b[38;5;21mc_diff\u001b[39m(df):\n\u001b[1;32m----> 3\u001b[0m     \u001b[38;5;28;01mif\u001b[39;00m \u001b[43mdf\u001b[49m\u001b[43m[\u001b[49m\u001b[38;5;124;43m'\u001b[39;49m\u001b[38;5;124;43mSolvent\u001b[39;49m\u001b[38;5;124;43m'\u001b[39;49m\u001b[43m]\u001b[49m\u001b[43m \u001b[49m\u001b[38;5;241;43m==\u001b[39;49m\u001b[43m \u001b[49m\u001b[38;5;124;43m'\u001b[39;49m\u001b[38;5;124;43mM\u001b[39;49m\u001b[38;5;124;43m'\u001b[39;49m:\n\u001b[0;32m      4\u001b[0m         c_out \u001b[38;5;241m=\u001b[39m \u001b[38;5;124m'\u001b[39m\u001b[38;5;124mr\u001b[39m\u001b[38;5;124m'\u001b[39m\n\u001b[0;32m      6\u001b[0m     \u001b[38;5;28;01melse\u001b[39;00m:\n",
      "File \u001b[1;32m~\\.conda\\envs\\mloc_v2\\lib\\site-packages\\pandas\\core\\generic.py:1527\u001b[0m, in \u001b[0;36mNDFrame.__nonzero__\u001b[1;34m(self)\u001b[0m\n\u001b[0;32m   1525\u001b[0m \u001b[38;5;129m@final\u001b[39m\n\u001b[0;32m   1526\u001b[0m \u001b[38;5;28;01mdef\u001b[39;00m \u001b[38;5;21m__nonzero__\u001b[39m(\u001b[38;5;28mself\u001b[39m) \u001b[38;5;241m-\u001b[39m\u001b[38;5;241m>\u001b[39m NoReturn:\n\u001b[1;32m-> 1527\u001b[0m     \u001b[38;5;28;01mraise\u001b[39;00m \u001b[38;5;167;01mValueError\u001b[39;00m(\n\u001b[0;32m   1528\u001b[0m         \u001b[38;5;124mf\u001b[39m\u001b[38;5;124m\"\u001b[39m\u001b[38;5;124mThe truth value of a \u001b[39m\u001b[38;5;132;01m{\u001b[39;00m\u001b[38;5;28mtype\u001b[39m(\u001b[38;5;28mself\u001b[39m)\u001b[38;5;241m.\u001b[39m\u001b[38;5;18m__name__\u001b[39m\u001b[38;5;132;01m}\u001b[39;00m\u001b[38;5;124m is ambiguous. \u001b[39m\u001b[38;5;124m\"\u001b[39m\n\u001b[0;32m   1529\u001b[0m         \u001b[38;5;124m\"\u001b[39m\u001b[38;5;124mUse a.empty, a.bool(), a.item(), a.any() or a.all().\u001b[39m\u001b[38;5;124m\"\u001b[39m\n\u001b[0;32m   1530\u001b[0m     )\n",
      "\u001b[1;31mValueError\u001b[0m: The truth value of a Series is ambiguous. Use a.empty, a.bool(), a.item(), a.any() or a.all()."
     ]
    },
    {
     "data": {
      "image/png": "[encoded data removed]",
      "text/plain": [
       "<Figure size 600x600 with 1 Axes>"
      ]
     },
     "metadata": {},
     "output_type": "display_data"
    }
   ],
   "source": [
    "sns.set_style(\"whitegrid\")\n",
    "\n",
    "fig = plt.figure(figsize=(6,6))\n",
    "ax = plt.axes(projection = '3d')\n",
    "\n",
    "\n",
    "\n",
    "\n",
    "x = test_rslt_df['D']\n",
    "y = test_rslt_df['P']\n",
    "z = test_rslt_df['H']\n",
    "\n",
    "ax.scatter(x, y, z, c = c_out)\n",
    "ax.set_xlabel('D')\n",
    "ax.set_ylabel('P')\n",
    "ax.set_zlabel('H', rotation = 90)\n",
    "ax.zaxis.labelpad=-1\n",
    "\n",
    "plt.show()"
   ]
  },
  {
   "cell_type": "code",
   "execution_count": null,
   "id": "b46e5f7a",
   "metadata": {},
   "outputs": [],
   "source": [
    "sns.set_style(\"whitegrid\")\n",
    "\n",
    "fig = plt.figure(figsize=(6,6))\n",
    "ax = plt.axes(projection = '3d')\n",
    "\n",
    "x = test_rslt_df['D']\n",
    "y = test_rslt_df['P']\n",
    "z = test_rslt_df['H']\n",
    "\n",
    "ax.scatter(x, y, z, c = 'g')\n",
    "ax.set_xlabel('D')\n",
    "ax.set_ylabel('P')\n",
    "ax.set_zlabel('H', rotation = 90)\n",
    "ax.zaxis.labelpad=-1\n",
    "\n",
    "plt.show()"
   ]
  },
  {
   "cell_type": "code",
   "execution_count": null,
   "id": "ec9e49ac",
   "metadata": {},
   "outputs": [],
   "source": [
    "sns.set_style(style = 'whitegrid')\n",
    "fig = plt.figure()\n",
    "ax = plt.axes(projection = '3d')\n",
    "x = test_rslt_df['D']\n",
    "y = test_rslt_df['P']\n",
    "z = test_rslt_df['H']\n",
    "ax.set_xlabel('D')\n",
    "ax.set_ylabel('P')\n",
    "ax.set_zlabel('H')\n",
    "ax.scatter(x, y, z)\n",
    "plt.show()"
   ]
  },
  {
   "cell_type": "code",
   "execution_count": null,
   "id": "b95b0258",
   "metadata": {},
   "outputs": [],
   "source": [
    "sns.catplot(x = 'R', y = 'Indicator', data = test_rslt_df, kind = \"bar\")"
   ]
  },
  {
   "cell_type": "code",
   "execution_count": null,
   "id": "b8dcc0d1",
   "metadata": {},
   "outputs": [],
   "source": []
  }
 ],
 "metadata": {
  "kernelspec": {
   "display_name": "Python 3 (ipykernel)",
   "language": "python",
   "name": "python3"
  },
  "language_info": {
   "codemirror_mode": {
    "name": "ipython",
    "version": 3
   },
   "file_extension": ".py",
   "mimetype": "text/x-python",
   "name": "python",
   "nbconvert_exporter": "python",
   "pygments_lexer": "ipython3",
   "version": "3.10.12"
  }
 },
 "nbformat": 4,
 "nbformat_minor": 5
}
